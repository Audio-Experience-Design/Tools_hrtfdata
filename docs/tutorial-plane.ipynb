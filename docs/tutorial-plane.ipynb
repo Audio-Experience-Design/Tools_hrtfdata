{
 "cells": [
  {
   "cell_type": "markdown",
   "metadata": {},
   "source": [
    "# Tutorial: Using a Dataset of Planes in PyTorch"
   ]
  },
  {
   "cell_type": "code",
   "execution_count": null,
   "metadata": {},
   "outputs": [],
   "source": [
    "from hrtfdata.torch.planar import CIPICPlane, ARIPlane, ListenPlane, BiLiPlane, ITAPlane, HUTUBSPlane, SADIE2Plane, ThreeDThreeAPlane, CHEDARPlane, WidespreadPlane, SONICOMPlane\n",
    "from hrtfdata.torch import collate_dict_dataset\n",
    "from torch.utils.data import DataLoader, Dataset\n",
    "from pathlib import Path\n",
    "import matplotlib.pyplot as plt"
   ]
  },
  {
   "cell_type": "markdown",
   "metadata": {},
   "source": [
    "## The minimum necessary to get started"
   ]
  },
  {
   "cell_type": "markdown",
   "metadata": {},
   "source": [
    "The purpose of `hrtfdata` is to provide PyTorch [`Datasets`](https://pytorch.org/docs/stable/data.html#torch.utils.data.Dataset) for multiple collections in a unified programming interface. Currently the following data collections are supported:\n",
    "\n",
    "- CIPIC\n",
    "- ARI\n",
    "- Listen\n",
    "- BiLi\n",
    "- ITA\n",
    "- HUTUBS\n",
    "- SADIE II\n",
    "- 3D3A\n",
    "- CHEDAR\n",
    "- Widespread\n",
    "- SONICOM\n",
    "\n",
    "Each of them has a corresponding class that can be loaded from `hrtfdata.torch.planar`, as is done above."
   ]
  },
  {
   "cell_type": "markdown",
   "metadata": {},
   "source": [
    "At minimum, you need to select which plane to use (out of `horizontal`, `median` or `frontal`), the HRIR/HRTF representation (`time`, `magnitude`, `magnitude_db`, `phase` or `complex`) and the side of the head (`left`, `right`, `both`, `both-left`, `both-right`)."
   ]
  },
  {
   "cell_type": "code",
   "execution_count": null,
   "metadata": {},
   "outputs": [],
   "source": [
    "plane = 'median'\n",
    "domain = 'magnitude_db'\n",
    "side = 'left'"
   ]
  },
  {
   "cell_type": "markdown",
   "metadata": {},
   "source": [
    "These parameters can then be used together with a `XPlane` class and the path to the root directory of files for the corresponding collection (having the same directory structure as on the cluster)."
   ]
  },
  {
   "cell_type": "code",
   "execution_count": null,
   "metadata": {},
   "outputs": [],
   "source": [
    "base_dir = Path('../HRTF Datasets')\n",
    "ds = ARIPlane(base_dir / 'ARI', plane, domain=domain, side=side)"
   ]
  },
  {
   "cell_type": "markdown",
   "metadata": {},
   "source": [
    "The resulting object `ds` is an instance of `torch.utils.data.Dataset`."
   ]
  },
  {
   "cell_type": "code",
   "execution_count": null,
   "metadata": {},
   "outputs": [],
   "source": [
    "isinstance(ds, Dataset)"
   ]
  },
  {
   "cell_type": "markdown",
   "metadata": {},
   "source": [
    "Therefore you can get its size and access individual data points in the data set by indexing it."
   ]
  },
  {
   "cell_type": "code",
   "execution_count": null,
   "metadata": {},
   "outputs": [],
   "source": [
    "len(ds)"
   ]
  },
  {
   "cell_type": "code",
   "execution_count": null,
   "metadata": {},
   "outputs": [],
   "source": [
    "p = ds[0]"
   ]
  },
  {
   "cell_type": "markdown",
   "metadata": {},
   "source": [
    "Each datapoint is a dictionary that contains the keys `features`, `target` and `group`."
   ]
  },
  {
   "cell_type": "code",
   "execution_count": null,
   "metadata": {},
   "outputs": [],
   "source": [
    "p.keys()"
   ]
  },
  {
   "cell_type": "markdown",
   "metadata": {},
   "source": [
    "The `features` key gives the plane in the requested domain, the `target` key returns the side of the head and `group` gives the subject id."
   ]
  },
  {
   "cell_type": "code",
   "execution_count": null,
   "metadata": {},
   "outputs": [],
   "source": [
    "p['features'].shape, p['target'], p['group']"
   ]
  },
  {
   "cell_type": "markdown",
   "metadata": {},
   "source": [
    "This dict format makes it possible to split the dataset while keeping individuals grouped, but also requires the use of the non-default `collate_dict_dataset` collation function when creating a `torch.util.data.DataLoader` (to convert the dataset into expected `(feature, target)` pairs)."
   ]
  },
  {
   "cell_type": "code",
   "execution_count": null,
   "metadata": {},
   "outputs": [],
   "source": [
    "DataLoader(ds, collate_fn=collate_dict_dataset)"
   ]
  },
  {
   "cell_type": "markdown",
   "metadata": {},
   "source": [
    "## Additional Dataset Functionality"
   ]
  },
  {
   "cell_type": "markdown",
   "metadata": {},
   "source": [
    "In addition to the minimal methods provided by PyTorch `Datasets`, `XPlane` objects have some extra functionality.\n",
    "\n",
    "You can get the sample rate of the HRIR:"
   ]
  },
  {
   "cell_type": "code",
   "execution_count": null,
   "metadata": {},
   "outputs": [],
   "source": [
    "ds.hrir_samplerate"
   ]
  },
  {
   "cell_type": "markdown",
   "metadata": {},
   "source": [
    "or the frequencies of the HRTF:"
   ]
  },
  {
   "cell_type": "code",
   "execution_count": null,
   "metadata": {},
   "outputs": [],
   "source": [
    "ds.hrtf_frequencies"
   ]
  },
  {
   "cell_type": "markdown",
   "metadata": {},
   "source": [
    "The angles in the plane can be obtained with:"
   ]
  },
  {
   "cell_type": "code",
   "execution_count": null,
   "metadata": {},
   "outputs": [],
   "source": [
    "ds.plane_angles"
   ]
  },
  {
   "cell_type": "markdown",
   "metadata": {},
   "source": [
    "By default, the interval for the angles is [-180, 180) (horizontal and frontal plane) or [-90, 27) (median plane). Positive angles in the range [0, 360) can be requested by passing `positive_angles=True` to the `XPlane` constructor."
   ]
  },
  {
   "cell_type": "markdown",
   "metadata": {},
   "source": [
    "The angle interval can also be changed after the creation of the dataset, without needing to reload from disk, by setting the `.positive_angles` boolean property."
   ]
  },
  {
   "cell_type": "code",
   "execution_count": null,
   "metadata": {},
   "outputs": [],
   "source": [
    "ds.positive_angles = True\n",
    "ds.plane_angles"
   ]
  },
  {
   "cell_type": "markdown",
   "metadata": {},
   "source": [
    "In all cases, the angle extrema are available as:"
   ]
  },
  {
   "cell_type": "code",
   "execution_count": null,
   "metadata": {},
   "outputs": [],
   "source": [
    "ds.min_angle, ds.max_angle"
   ]
  },
  {
   "cell_type": "markdown",
   "metadata": {},
   "source": [
    "Using this additional info, you could create your own plots, but plotting functionality is also include. You can plot the angles of the plane with the `.plot_angles()` method."
   ]
  },
  {
   "cell_type": "code",
   "execution_count": null,
   "metadata": {},
   "outputs": [],
   "source": [
    "ds.plot_angles()\n",
    "plt.show()"
   ]
  },
  {
   "cell_type": "markdown",
   "metadata": {},
   "source": [
    "Its complete type signature is `.plot_angles(ax=None, title=None)`, which contains optional arguments to draw on existing Matplotlib `Axes` or to overwrite the default title."
   ]
  },
  {
   "cell_type": "markdown",
   "metadata": {},
   "source": [
    "You can also plot the HRTF of a data point, by passing its index to `.plot_plane()`."
   ]
  },
  {
   "cell_type": "code",
   "execution_count": null,
   "metadata": {},
   "outputs": [],
   "source": [
    "ds.plot_plane(0)\n",
    "plt.show()"
   ]
  },
  {
   "cell_type": "markdown",
   "metadata": {},
   "source": [
    "The type signature of this method is `.plot_plane(idx, ax=None, cmap='viridis', continuous=False, vmin=None, vmax=None, title=None, colorbar=True, log_freq=False)`, which contains quite some optional arguments. The `ax` and `title` options do the same as in `.plot_angles()`. Any [colour map available in Matplotlib](https://matplotlib.org/stable/gallery/color/colormap_reference.html) can be used by passing it to `cmap`. By default the minimum and maximum values of the colour map are set to the minimum and maximum value in the entire dataset, but they can be set using the `vmin` and `vmax` options. The colour bar that is shown by default can be disabled with `colorbar=False`.\n",
    "\n",
    "The plane angles are plotted on a linear scale, so if the sampling of angles is non-uniform, certain angles will be drawn over larger areas in the plot than others. By default, the area up to halfway the next angle is filled with a uniform colour, resulting in a block-like appearance that can be used to visually inspect the distribution of angles in the plane. By passing `continuous=True`, intermediate angle values will be interpolated leading to a smooth picture. For frequency-domain HRTF representations, the option `log_freq=True` can be used to plot frequency on a logarithmic axis. Finally, the Matplotlib `Axes` get returned, allowing for further customisation of the plot.\n",
    "\n",
    "An example demonstrating all these options can be found below."
   ]
  },
  {
   "cell_type": "code",
   "execution_count": null,
   "metadata": {},
   "outputs": [],
   "source": [
    "_, ax = plt.subplots(figsize=(8,8))\n",
    "ax = ds.plot_plane(0, ax=ax, cmap='gray', continuous=True, vmin=-120, vmax=0, title='', colorbar=False, log_freq=True)\n",
    "ax.set_ylim(0.1, 18)\n",
    "plt.show()"
   ]
  },
  {
   "cell_type": "markdown",
   "metadata": {},
   "source": [
    "## Customising Dataset Contents"
   ]
  },
  {
   "cell_type": "markdown",
   "metadata": {},
   "source": [
    "By default, all available subjects will be loaded into a data set. A list of ids of the subjects composing the data set can be obtained as:"
   ]
  },
  {
   "cell_type": "code",
   "execution_count": null,
   "metadata": {},
   "outputs": [],
   "source": [
    "ds.subject_ids"
   ]
  },
  {
   "cell_type": "markdown",
   "metadata": {},
   "source": [
    "A subset of the data can be obtained using the standard [`torch.util.data.Subset`](https://pytorch.org/docs/stable/data.html#torch.utils.data.Subset) functionality. However, if you want more control over the contents of a data set, you can pass the `subject_ids` argument to an `XPlane` constructor. It should contain an iterable of subject ids."
   ]
  },
  {
   "cell_type": "code",
   "execution_count": null,
   "metadata": {},
   "outputs": [],
   "source": [
    "ds = ARIPlane(base_dir / 'ARI', plane, domain=domain, side=side, subject_ids=(1, 2, 3, 4, 5))"
   ]
  },
  {
   "cell_type": "markdown",
   "metadata": {},
   "source": [
    "If no subject with the given id exists, it gets silently skipped."
   ]
  },
  {
   "cell_type": "code",
   "execution_count": null,
   "metadata": {},
   "outputs": [],
   "source": [
    "ds.subject_ids"
   ]
  },
  {
   "cell_type": "markdown",
   "metadata": {},
   "source": [
    "For any dataset, regardless its contents, you can request the possible subject ids you can pass to the constructor:"
   ]
  },
  {
   "cell_type": "code",
   "execution_count": null,
   "metadata": {},
   "outputs": [],
   "source": [
    "ds.available_subject_ids"
   ]
  },
  {
   "cell_type": "markdown",
   "metadata": {},
   "source": [
    "For convenience, you can create an empty data set by passing an empty list or tuple to `subject_ids`, then read `.available_subject_ids` to find out what subjects are available and create another data set with a subset of these ids."
   ]
  },
  {
   "cell_type": "code",
   "execution_count": null,
   "metadata": {},
   "outputs": [],
   "source": [
    "ds = ARIPlane(base_dir / 'ARI', plane, domain=domain, side=side, subject_ids=())\n",
    "ds.subject_ids"
   ]
  },
  {
   "cell_type": "markdown",
   "metadata": {},
   "source": [
    "If you just need a single example of a data collection, you can instead pass one of the strings `first`, `last` or `random` to `subject_ids`. The first two deterministically load the first, respectively last, id in the collection, wheras `random` loads a random subject."
   ]
  },
  {
   "cell_type": "code",
   "execution_count": null,
   "metadata": {},
   "outputs": [],
   "source": [
    "ds = ARIPlane(base_dir / 'ARI', plane, domain=domain, side=side, subject_ids='first')\n",
    "ds.subject_ids"
   ]
  },
  {
   "cell_type": "code",
   "execution_count": null,
   "metadata": {},
   "outputs": [],
   "source": [
    "ds = ARIPlane(base_dir / 'ARI', plane, domain=domain, side=side, subject_ids='last')\n",
    "ds.subject_ids"
   ]
  },
  {
   "cell_type": "code",
   "execution_count": null,
   "metadata": {},
   "outputs": [],
   "source": [
    "ds = ARIPlane(base_dir / 'ARI', plane, domain=domain, side=side, subject_ids='random')\n",
    "ds.subject_ids"
   ]
  },
  {
   "cell_type": "markdown",
   "metadata": {},
   "source": [
    "As a concluding example, the snippet below plots the angular distribution and an example HRTF of all available data collections for each of the three fundamental planes."
   ]
  },
  {
   "cell_type": "code",
   "execution_count": null,
   "metadata": {},
   "outputs": [],
   "source": [
    "domain = 'magnitude_db'\n",
    "side = 'both'\n",
    "positive_angles = False\n",
    "subject_ids = 'first'\n",
    "\n",
    "for collection, data_dir in [\n",
    "    (CIPICPlane, base_dir / 'CIPIC'),\n",
    "    (ARIPlane, base_dir / 'ARI'),\n",
    "    (ListenPlane, base_dir / 'Ircam Listen'),\n",
    "    (BiLiPlane, base_dir / 'Ircam BiLi'),\n",
    "    (ITAPlane, base_dir / 'ITA Aachen'), \n",
    "    (HUTUBSPlane, base_dir / 'HUTUBS'),\n",
    "    (SADIE2Plane, base_dir / 'SADIE II'),\n",
    "    (ThreeDThreeAPlane, base_dir / '3D3A'),\n",
    "    (CHEDARPlane, base_dir / 'CHEDAR'),\n",
    "    (WidespreadPlane, base_dir / 'Widespread'),\n",
    "    (SONICOMPlane, base_dir / 'SONICOM'),\n",
    "]:\n",
    "    fig = plt.figure(figsize=(16, 18))\n",
    "    fig.suptitle(collection.__name__)\n",
    "    for idx, plane in enumerate(('horizontal', 'median', 'frontal')):\n",
    "        plane_offset = -0.72 if collection == ITAPlane and plane == 'horizontal' else 0\n",
    "        ds = collection(data_dir, plane, plane_offset=plane_offset, domain=domain, side=side, positive_angles=positive_angles, subject_ids=subject_ids)\n",
    "        ax0 = fig.add_subplot(3, 2, 2*idx+1, projection='polar')\n",
    "        ax1 = fig.add_subplot(3, 2, 2*idx+2)\n",
    "        if domain.startswith('magnitude'):\n",
    "            ax1.set_ylim((0, 18))\n",
    "        elif domain == 'time':\n",
    "            ax1.set_ylim((0, 3))\n",
    "        ds.plot_angles(ax=ax0)\n",
    "        ds.plot_plane(0, ax=ax1, continuous=False, log_freq=False)\n",
    "    plt.show()"
   ]
  },
  {
   "cell_type": "markdown",
   "metadata": {},
   "source": []
  }
 ],
 "metadata": {
  "interpreter": {
   "hash": "3ab9b4d6d534a0d7ed53014b78c6df3e91c6caa71ceb9148ee7f9581410432c0"
  },
  "kernelspec": {
   "display_name": "Python 3.9.10 64-bit",
   "language": "python",
   "name": "python3"
  },
  "language_info": {
   "codemirror_mode": {
    "name": "ipython",
    "version": 3
   },
   "file_extension": ".py",
   "mimetype": "text/x-python",
   "name": "python",
   "nbconvert_exporter": "python",
   "pygments_lexer": "ipython3",
   "version": "3.9.10"
  }
 },
 "nbformat": 4,
 "nbformat_minor": 2
}
